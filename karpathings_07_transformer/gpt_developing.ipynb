{
 "cells": [
  {
   "cell_type": "code",
   "execution_count": 1,
   "metadata": {},
   "outputs": [],
   "source": [
    "with open('All_MP_Scripts.txt', 'r') as f:\n",
    "    text=f.read()"
   ]
  },
  {
   "cell_type": "code",
   "execution_count": 4,
   "metadata": {},
   "outputs": [
    {
     "name": "stdout",
     "output_type": "stream",
     "text": [
      "1539026 characters\n"
     ]
    }
   ],
   "source": [
    "print(f\"{len(text)} characters\")"
   ]
  },
  {
   "cell_type": "code",
   "execution_count": 5,
   "metadata": {},
   "outputs": [
    {
     "name": "stdout",
     "output_type": "stream",
     "text": [
      "<Direction: A seashore. Some way out to sea a ragged man is struggling his way to shore. Slowly and with difficulty he makes his way up onto the beach, flops down exhausted and announces:> \n",
      "\n",
      "It's Man(Michael Palin): It's... \n",
      "\n",
      "Voice Over(John Cleese): Monty Python's Flying Circus. \n",
      "\n",
      "<Direction: Titles beginning with words \"Monty Python's Flying Circus\". Various bizarre things happen. When titles end: Ordinary grey-suited announcer standing by desk. He smiles confidently.> \n",
      "\n",
      "Announcer(Graham Chapman): Good evening. \n",
      "\n",
      "<Direction: The announcer confidently moves to chair and sits down. There is a squeal as of a pig being sat upon. Cut to a blackboard with several lines of pigs drawn on it in colour. A man steps into view and with a piece of chalk crosses out one of the pigs CAPTION: 'IT'S WOLFGANG AMADEUS MOZART' Mozart sitting at piano tinkling with the keys. He finishes tinkling.> \n",
      "\n",
      "Mozart(John Cleese): Hello again, and welcome to the show. Tonight we continue to look at some famous deat\n"
     ]
    }
   ],
   "source": [
    "print(text[:1000])"
   ]
  },
  {
   "cell_type": "code",
   "execution_count": 6,
   "metadata": {},
   "outputs": [
    {
     "name": "stdout",
     "output_type": "stream",
     "text": [
      "Vocab size: 103\n",
      "\n",
      " !\"$%&'()*+,-./0123456789:;<=>?ABCDEFGHIJKLMNOPQRSTUVWXYZ`abcdefghijklmnopqrstuvwxyz£½ÇÉÜàâçèéêëîñôöùü\n"
     ]
    }
   ],
   "source": [
    "chars=sorted(list(set(text)))\n",
    "vocab_size=len(chars)\n",
    "print(f\"Vocab size: {vocab_size}\")\n",
    "\n",
    "print(''.join(chars))"
   ]
  },
  {
   "cell_type": "code",
   "execution_count": 7,
   "metadata": {},
   "outputs": [
    {
     "name": "stdout",
     "output_type": "stream",
     "text": [
      "Vocab size: 83\n",
      "\n",
      " !$%&'()*+,-./0123456789:;<>?ABCDEFGHIJKLMNOPQRSTUVWXYZabcdefghijklmnopqrstuvwxyz£\n"
     ]
    }
   ],
   "source": [
    "#Lets make it simple for the gpt\n",
    "\n",
    "import unicodedata\n",
    "\n",
    "text = unicodedata.normalize(\"NFD\", text)\n",
    "text = \"\".join(c for c in text if unicodedata.category(c) != \"Mn\")\n",
    "\n",
    "text = text.replace(\"`\", \"'\")\n",
    "text = text.replace(\"“\", \"'\")\n",
    "test = text.replace(\"”\", \"'\")  \n",
    "text = text.replace('\"', \"'\") \n",
    "\n",
    "text = text.replace(\"=\",\"\")\n",
    "text = text.replace(\"½\",\"\")\n",
    "\n",
    "\n",
    "# Reemplazo manual de caracteres especiales restantes\n",
    "text = text.replace(\"Ç\", \"C\").replace(\"É\", \"E\").replace(\"Ü\", \"U\")\n",
    "text = text.replace(\"â\", \"a\").replace(\"è\", \"e\").replace(\"ê\", \"e\").replace(\"ë\", \"e\")\n",
    "text = text.replace(\"ö\", \"o\").replace(\"ù\", \"u\")\n",
    "\n",
    "chars = sorted(list(set(text)))  # Extraer caracteres únicos después de normalizar\n",
    "vocab_size = len(chars)\n",
    "\n",
    "print(f\"Vocab size: {vocab_size}\")\n",
    "print(''.join(chars))  # Mostrar los caracteres únicos restantes\n"
   ]
  },
  {
   "cell_type": "code",
   "execution_count": 8,
   "metadata": {},
   "outputs": [],
   "source": [
    "#save the corrected version of the text\n",
    "with open('All_MP_Scripts_cleaned.txt', 'w') as f:\n",
    "    f.write(text)"
   ]
  },
  {
   "cell_type": "code",
   "execution_count": 16,
   "metadata": {},
   "outputs": [
    {
     "name": "stdout",
     "output_type": "stream",
     "text": [
      "[45, 64, 65, 76, 74, 1, 42, 56, 62, 69, 64, 61, 64, 58, 76, 74]\n",
      "Pijus Magnificus\n"
     ]
    }
   ],
   "source": [
    "# create a mapping from characters to integers\n",
    "stoi = { ch:i for i,ch in enumerate(chars) }\n",
    "itos = { i:ch for i,ch in enumerate(chars) }\n",
    "encode = lambda s: [stoi[c] for c in s] # encoder: take a string, output a list of integers\n",
    "decode = lambda l: ''.join([itos[i] for i in l]) # decoder: take a list of integers, output a string\n",
    "\n",
    "print(encode(\"Pijus Magnificus\"))\n",
    "print(decode(encode(\"Pijus Magnificus\")))"
   ]
  },
  {
   "cell_type": "code",
   "execution_count": 17,
   "metadata": {},
   "outputs": [
    {
     "name": "stdout",
     "output_type": "stream",
     "text": [
      "torch.Size([1539022]) torch.int64\n",
      "tensor([27, 33, 64, 73, 60, 58, 75, 64, 70, 69, 25,  1, 30,  1, 74, 60, 56, 74,\n",
      "        63, 70, 73, 60, 13,  1, 48, 70, 68, 60,  1, 78, 56, 80,  1, 70, 76, 75,\n",
      "         1, 75, 70,  1, 74, 60, 56,  1, 56,  1, 73, 56, 62, 62, 60, 59,  1, 68,\n",
      "        56, 69,  1, 64, 74,  1, 74, 75, 73, 76, 62, 62, 67, 64, 69, 62,  1, 63,\n",
      "        64, 74,  1, 78, 56, 80,  1, 75, 70,  1, 74, 63, 70, 73, 60, 13,  1, 48,\n",
      "        67, 70, 78, 67, 80,  1, 56, 69, 59,  1, 78, 64, 75, 63,  1, 59, 64, 61,\n",
      "        61, 64, 58, 76, 67, 75, 80,  1, 63, 60,  1, 68, 56, 66, 60, 74,  1, 63,\n",
      "        64, 74,  1, 78, 56, 80,  1, 76, 71,  1, 70, 69, 75, 70,  1, 75, 63, 60,\n",
      "         1, 57, 60, 56, 58, 63, 11,  1, 61, 67, 70, 71, 74,  1, 59, 70, 78, 69,\n",
      "         1, 60, 79, 63, 56, 76, 74, 75, 60, 59,  1, 56, 69, 59,  1, 56, 69, 69,\n",
      "        70, 76, 69, 58, 60, 74, 25, 28,  1,  0,  0, 38, 75,  6, 74,  1, 42, 56,\n",
      "        69,  7, 42, 64, 58, 63, 56, 60, 67,  1, 45, 56, 67, 64, 69,  8, 25,  1,\n",
      "        38, 75,  6, 74, 13, 13, 13,  1,  0,  0, 51, 70, 64, 58, 60,  1, 44, 77,\n",
      "        60, 73,  7, 39, 70, 63, 69,  1, 32, 67, 60, 60, 74, 60,  8, 25,  1, 42,\n",
      "        70, 69, 75, 80,  1, 45, 80, 75, 63, 70, 69,  6, 74,  1, 35, 67, 80, 64,\n",
      "        69, 62,  1, 32, 64, 73, 58, 76, 74, 13,  1,  0,  0, 27, 33, 64, 73, 60,\n",
      "        58, 75, 64, 70, 69, 25,  1, 49, 64, 75, 67, 60, 74,  1, 57, 60, 62, 64,\n",
      "        69, 69, 64, 69, 62,  1, 78, 64, 75, 63,  1, 78, 70, 73, 59, 74,  1,  6,\n",
      "        42, 70, 69, 75, 80,  1, 45, 80, 75, 63, 70, 69,  6, 74,  1, 35, 67, 80,\n",
      "        64, 69, 62,  1, 32, 64, 73, 58, 76, 74,  6, 13,  1, 51, 56, 73, 64, 70,\n",
      "        76, 74,  1, 57, 64, 81, 56, 73, 73, 60,  1, 75, 63, 64, 69, 62, 74,  1,\n",
      "        63, 56, 71, 71, 60, 69, 13,  1, 52, 63, 60, 69,  1, 75, 64, 75, 67, 60,\n",
      "        74,  1, 60, 69, 59, 25,  1, 44, 73, 59, 64, 69, 56, 73, 80,  1, 62, 73,\n",
      "        60, 80, 12, 74, 76, 64, 75, 60, 59,  1, 56, 69, 69, 70, 76, 69, 58, 60,\n",
      "        73,  1, 74, 75, 56, 69, 59, 64, 69, 62,  1, 57, 80,  1, 59, 60, 74, 66,\n",
      "        13,  1, 37, 60,  1, 74, 68, 64, 67, 60, 74,  1, 58, 70, 69, 61, 64, 59,\n",
      "        60, 69, 75, 67, 80, 13, 28,  1,  0,  0, 30, 69, 69, 70, 76, 69, 58, 60,\n",
      "        73,  7, 36, 73, 56, 63, 56, 68,  1, 32, 63, 56, 71, 68, 56, 69,  8, 25,\n",
      "         1, 36, 70, 70, 59,  1, 60, 77, 60, 69, 64, 69, 62, 13,  1,  0,  0, 27,\n",
      "        33, 64, 73, 60, 58, 75, 64, 70, 69, 25,  1, 49, 63, 60,  1, 56, 69, 69,\n",
      "        70, 76, 69, 58, 60, 73,  1, 58, 70, 69, 61, 64, 59, 60, 69, 75, 67, 80,\n",
      "         1, 68, 70, 77, 60, 74,  1, 75, 70,  1, 58, 63, 56, 64, 73,  1, 56, 69,\n",
      "        59,  1, 74, 64, 75, 74,  1, 59, 70, 78, 69, 13,  1, 49, 63, 60, 73, 60,\n",
      "         1, 64, 74,  1, 56,  1, 74, 72, 76, 60, 56, 67,  1, 56, 74,  1, 70, 61,\n",
      "         1, 56,  1, 71, 64, 62,  1, 57, 60, 64, 69, 62,  1, 74, 56, 75,  1, 76,\n",
      "        71, 70, 69, 13,  1, 32, 76, 75,  1, 75, 70,  1, 56,  1, 57, 67, 56, 58,\n",
      "        66, 57, 70, 56, 73, 59,  1, 78, 64, 75, 63,  1, 74, 60, 77, 60, 73, 56,\n",
      "        67,  1, 67, 64, 69, 60, 74,  1, 70, 61,  1, 71, 64, 62, 74,  1, 59, 73,\n",
      "        56, 78, 69,  1, 70, 69,  1, 64, 75,  1, 64, 69,  1, 58, 70, 67, 70, 76,\n",
      "        73, 13,  1, 30,  1, 68, 56, 69,  1, 74, 75, 60, 71, 74,  1, 64, 69, 75,\n",
      "        70,  1, 77, 64, 60, 78,  1, 56, 69, 59,  1, 78, 64, 75, 63,  1, 56,  1,\n",
      "        71, 64, 60, 58, 60,  1, 70, 61,  1, 58, 63, 56, 67, 66,  1, 58, 73, 70,\n",
      "        74, 74, 60, 74,  1, 70, 76, 75,  1, 70, 69, 60,  1, 70, 61,  1, 75, 63,\n",
      "        60,  1, 71, 64, 62, 74,  1, 32, 30, 45, 49, 38, 44, 43, 25,  1,  6, 38,\n",
      "        49,  6, 48,  1, 52, 44, 41, 35, 36, 30, 43, 36,  1, 30, 42, 30, 33, 34,\n",
      "        50, 48,  1, 42, 44, 55, 30, 47, 49,  6,  1, 42, 70, 81, 56, 73, 75,  1,\n",
      "        74, 64, 75, 75, 64, 69, 62,  1, 56, 75,  1, 71, 64, 56, 69, 70,  1, 75,\n",
      "        64, 69, 66, 67, 64, 69, 62,  1, 78, 64, 75, 63,  1, 75, 63, 60,  1, 66,\n",
      "        60, 80, 74, 13,  1, 37, 60,  1, 61, 64, 69, 64, 74, 63, 60, 74,  1, 75,\n",
      "        64, 69, 66, 67, 64, 69, 62, 13, 28,  1,  0,  0, 42, 70, 81, 56, 73, 75,\n",
      "         7, 39, 70, 63, 69,  1, 32, 67, 60, 60, 74, 60,  8, 25,  1, 37, 60, 67,\n",
      "        67, 70,  1, 56, 62, 56, 64, 69, 11,  1, 56, 69, 59,  1, 78, 60, 67, 58,\n",
      "        70, 68, 60,  1, 75, 70,  1, 75, 63, 60,  1, 74, 63, 70, 78, 13,  1, 49,\n",
      "        70, 69, 64, 62, 63, 75,  1, 78, 60,  1, 58, 70, 69, 75, 64, 69, 76, 60,\n",
      "         1, 75, 70,  1, 67, 70, 70, 66,  1, 56, 75,  1, 74, 70, 68, 60,  1, 61,\n",
      "        56, 68, 70, 76, 74,  1, 59, 60, 56, 75])\n"
     ]
    }
   ],
   "source": [
    "# let's now encode the entire text dataset and store it into a torch.Tensor\n",
    "import torch # we use PyTorch: https://pytorch.org\n",
    "data = torch.tensor(encode(text), dtype=torch.long)\n",
    "print(data.shape, data.dtype)\n",
    "print(data[:1000]) # the 1000 characters we looked at earier will to the GPT look like this"
   ]
  },
  {
   "cell_type": "code",
   "execution_count": 19,
   "metadata": {},
   "outputs": [],
   "source": [
    "# Let's now split up the data into train and validation sets\n",
    "n = int(0.9*len(data)) # first 90% will be train, rest val\n",
    "train_data = data[:n]\n",
    "val_data = data[n:]"
   ]
  },
  {
   "cell_type": "code",
   "execution_count": 24,
   "metadata": {},
   "outputs": [
    {
     "name": "stdout",
     "output_type": "stream",
     "text": [
      "input: tensor([27]) --> target: 33\n",
      "input: tensor([27, 33]) --> target: 64\n",
      "input: tensor([27, 33, 64]) --> target: 73\n",
      "input: tensor([27, 33, 64, 73]) --> target: 60\n",
      "input: tensor([27, 33, 64, 73, 60]) --> target: 58\n",
      "input: tensor([27, 33, 64, 73, 60, 58]) --> target: 75\n",
      "input: tensor([27, 33, 64, 73, 60, 58, 75]) --> target: 64\n",
      "input: tensor([27, 33, 64, 73, 60, 58, 75, 64]) --> target: 70\n"
     ]
    }
   ],
   "source": [
    "block_size = 8#context window\n",
    "\n",
    "\n",
    "x = train_data[:block_size]\n",
    "y = train_data[1:block_size+1]\n",
    "for t in range(block_size):\n",
    "    context = x[:t+1]\n",
    "    target = y[t]\n",
    "    print(f\"input: {context.data} --> target: {target}\")"
   ]
  },
  {
   "cell_type": "code",
   "execution_count": 32,
   "metadata": {},
   "outputs": [
    {
     "name": "stdout",
     "output_type": "stream",
     "text": [
      "inputs:\n",
      "torch.Size([4, 8])\n",
      "tensor([[49,  1, 35, 47, 30, 50,  1, 42],\n",
      "        [60, 58, 75, 64, 70, 69, 25,  1],\n",
      "        [ 1, 35, 47, 44, 42,  1, 46, 50],\n",
      "        [73, 74, 75,  1, 75, 64, 68, 60]])\n",
      "targets:\n",
      "torch.Size([4, 8])\n",
      "tensor([[ 1, 35, 47, 30, 50,  1, 42, 38],\n",
      "        [58, 75, 64, 70, 69, 25,  1, 30],\n",
      "        [35, 47, 44, 42,  1, 46, 50, 38],\n",
      "        [74, 75,  1, 75, 64, 68, 60,  1]])\n",
      "----\n",
      "Batch #0\n",
      "when input is [ T ] the target: 1\n",
      "when input is [ T  ] the target: 35\n",
      "when input is [ T F ] the target: 47\n",
      "when input is [ T FR ] the target: 30\n",
      "when input is [ T FRA ] the target: 50\n",
      "when input is [ T FRAU ] the target: 1\n",
      "when input is [ T FRAU  ] the target: 42\n",
      "when input is [ T FRAU M ] the target: 38\n",
      "Batch #1\n",
      "when input is [ e ] the target: 58\n",
      "when input is [ ec ] the target: 75\n",
      "when input is [ ect ] the target: 64\n",
      "when input is [ ecti ] the target: 70\n",
      "when input is [ ectio ] the target: 69\n",
      "when input is [ ection ] the target: 25\n",
      "when input is [ ection: ] the target: 1\n",
      "when input is [ ection:  ] the target: 30\n",
      "Batch #2\n",
      "when input is [   ] the target: 35\n",
      "when input is [  F ] the target: 47\n",
      "when input is [  FR ] the target: 44\n",
      "when input is [  FRO ] the target: 42\n",
      "when input is [  FROM ] the target: 1\n",
      "when input is [  FROM  ] the target: 46\n",
      "when input is [  FROM Q ] the target: 50\n",
      "when input is [  FROM QU ] the target: 38\n",
      "Batch #3\n",
      "when input is [ r ] the target: 74\n",
      "when input is [ rs ] the target: 75\n",
      "when input is [ rst ] the target: 1\n",
      "when input is [ rst  ] the target: 75\n",
      "when input is [ rst t ] the target: 64\n",
      "when input is [ rst ti ] the target: 68\n",
      "when input is [ rst tim ] the target: 60\n",
      "when input is [ rst time ] the target: 1\n"
     ]
    }
   ],
   "source": [
    "torch.manual_seed(1337)\n",
    "\n",
    "batch_size = 4 # how many independent sequences will we process in parallel?\n",
    "\n",
    "def get_batch(split):\n",
    "    # generate a small batch of data of inputs x and targets y\n",
    "    data = train_data if split == 'train' else val_data\n",
    "\n",
    "    ix = torch.randint(len(data) - block_size, (batch_size,)) #4 numbers generated between 0 and lendata-blocksize\n",
    "    \n",
    "    x = torch.stack([data[i:i+block_size] for i in ix])#stack as rows# inputs\n",
    "    y = torch.stack([data[i+1:i+block_size+1] for i in ix]) #stack as rows# groundtruth\n",
    "    return x, y\n",
    "\n",
    "xb, yb = get_batch('train')\n",
    "print('inputs:')\n",
    "print(xb.shape)\n",
    "print(xb)\n",
    "print('targets:')\n",
    "print(yb.shape)\n",
    "print(yb)\n",
    "\n",
    "print('----')\n",
    "\n",
    "for b in range(batch_size): # batch dimension\n",
    "    print(f\"Batch #{b}\")\n",
    "    for t in range(block_size): # time dimension\n",
    "        context = xb[b, :t+1]\n",
    "        target = yb[b,t]\n",
    "        print(f\"when input is [ {decode(context.tolist())} ] the target: {target}\")"
   ]
  },
  {
   "cell_type": "markdown",
   "metadata": {},
   "source": [
    "Lets start with a simple bigramLM, but this time using pytorch\n",
    "\n",
    "Prediction is made only based on the individual identity of the current token"
   ]
  },
  {
   "cell_type": "code",
   "execution_count": 40,
   "metadata": {},
   "outputs": [
    {
     "name": "stdout",
     "output_type": "stream",
     "text": [
      "torch.Size([32, 83])\n",
      "expected loss:4.418840607796598\n",
      "loss:4.839823246002197\n"
     ]
    }
   ],
   "source": [
    "import math\n",
    "\n",
    "import torch\n",
    "import torch.nn as nn\n",
    "from torch.nn import functional as F\n",
    "torch.manual_seed(1337)\n",
    "\n",
    "class BigramLanguageModel(nn.Module):\n",
    "\n",
    "    def __init__(self, vocab_size):\n",
    "        super().__init__()\n",
    "        # each token directly reads off the logits for the next token from a lookup table\n",
    "        self.token_embedding_table = nn.Embedding(vocab_size, vocab_size) #vocabsize x vocabsize\n",
    "\n",
    "    def forward(self, idx, targets=None):\n",
    "\n",
    "        # idx and targets are both (B,T) tensor of integers\n",
    "        logits = self.token_embedding_table(idx) # (B,T,C) #Batch-Time-Channel #batch-context-vocabsize\n",
    "\n",
    "        if targets is None:#Running time\n",
    "            \n",
    "            loss = None\n",
    "        \n",
    "        else:#Train/Val time\n",
    "\n",
    "            #pytorch wants channels as the second dim (b,c,t)\n",
    "            B, T, C = logits.shape\n",
    "            logits = logits.view(B*T, C)#2d array\n",
    "            targets = targets.view(B*T)#targets.view(-1)#1d array\n",
    "            loss = F.cross_entropy(logits, targets)\n",
    "\n",
    "        return logits, loss\n",
    "\n",
    "    def generate(self, idx, max_new_tokens):\n",
    "        # idx is (B, T) array of indices in the current context\n",
    "        for _ in range(max_new_tokens):\n",
    "            # get the predictions\n",
    "            logits,  = self(idx)\n",
    "            # focus only on the last time step\n",
    "            logits = logits[:, -1, :] # last elements in time dim. becomes (B, C)\n",
    "            # apply softmax to get probabilities\n",
    "            probs = F.softmax(logits, dim=-1) # (B, C)\n",
    "            # sample from the distribution\n",
    "            idx_next = torch.multinomial(probs, num_samples=1) # (B, 1)\n",
    "            # append sampled index to the running sequence\n",
    "            idx = torch.cat((idx, idx_next), dim=1) # (B, T+1)\n",
    "        return idx\n",
    "\n",
    "m = BigramLanguageModel(vocab_size)\n",
    "logits, loss = m(xb, yb)\n",
    "print(logits.shape)\n",
    "expected_loss=math.log(1/vocab_size)*-1\n",
    "print(f\"expected loss:{expected_loss}\")\n",
    "print(f\"loss:{loss}\")\n",
    "\n"
   ]
  },
  {
   "cell_type": "code",
   "execution_count": 55,
   "metadata": {},
   "outputs": [
    {
     "name": "stdout",
     "output_type": "stream",
     "text": [
      "\n",
      "gJH9bp<OI>rm ynvo-SE<27zHqXfJuzht'TY0-fH4f6HfvL..n>5GTkjArEn&7ige8B5KIY(Fmv9v/£Vt*iUqSWNxacc LJS1LU>\n"
     ]
    }
   ],
   "source": [
    "#A total mess :)\n",
    "first_char= torch.zeros((1, 1), dtype=torch.long)\n",
    "print(decode(m.generate(first_char, max_new_tokens=100)[0].tolist()))\n"
   ]
  },
  {
   "cell_type": "code",
   "execution_count": 57,
   "metadata": {},
   "outputs": [],
   "source": [
    "# create a PyTorch optimizer\n",
    "#https://www.youtube.com/watch?v=MD2fYip6QsQ\n",
    "#until now we only use stochastic gradient descent\n",
    "optimizer = torch.optim.AdamW(m.parameters(), lr=1e-3)#1e-4 for bigger networks"
   ]
  },
  {
   "cell_type": "markdown",
   "metadata": {},
   "source": [
    "#### AdamW Optimizer: A Practical Guide\n",
    "\n",
    "**What is AdamW?**\n",
    "\n",
    "AdamW is an improved version of the popular Adam optimizer, with better handling of weight decay for neural network training. Introduced in the 2017 paper [\"Decoupling Weight Decay Regularization from Gradient Descent\"](https://arxiv.org/abs/1711.05101) by Loshchilov and Hutter.\n",
    "\n",
    "**Key Benefits**\n",
    "\n",
    "- **⚙️Adaptive learning rates** - Automatically adjusts learning rates for each parameter\n",
    "- **🏃Momentum-based** - Keeps track of past gradients to smooth optimization\n",
    "- **⚖️Proper weight decay** - Correctly implements L2 regularization (unlike Adam)\n",
    "- **🚄 Fast convergence** - Often converges faster than SGD with momentum\n",
    "- **🛡️Less sensitive to hyperparameters** - Works well with default settings\n",
    "\n",
    "**How AdamW Differs from Adam**\n",
    "\n",
    "The key difference is in how weight decay(a regularization technique that prevents overfitting by penalizing large weight values) is applied:\n",
    "\n",
    "- **Adam**: Applies weight decay to the gradients, which interacts poorly with the adaptive learning rates\n",
    "- **AdamW**: Decouples weight decay from gradient updates, applying it directly to the weights\n",
    "\n",
    "\n",
    "**Basic PyTorch Implementation**\n",
    "\n",
    "```python\n",
    "# Simple implementation in PyTorch\n",
    "optimizer = torch.optim.AdamW(model.parameters(), lr=1e-3, weight_decay=1e-2)\n",
    "```\n",
    "\n",
    "| Parameter | Typical Values | Description |\n",
    "|-----------|----------------|-------------|\n",
    "| `lr` | 1e-3 to 1e-5 | Learning rate (smaller for larger models) |\n",
    "| `betas` | (0.9, 0.999) | Exponential decay rates for moment estimates |\n",
    "| `eps` | 1e-8 | Term added for numerical stability |\n",
    "| `weight_decay` | 0.01 to 0.1 | Regularization parameter (higher = stronger regularization) |\n",
    "\n",
    "**Learning Rates advice**\n",
    "\n",
    "- Smaller networks: 1e-3 to 1e-4\n",
    "- Medium networks: 1e-4 to 1e-5\n",
    "- Large networks: 1e-5 to 1e-6\n",
    "\n",
    "**Visual Intuition**\n",
    "\n",
    "AdamW combines the benefits of:\n",
    "- **RMSProp**: Divides gradients by running average of squared gradients\n",
    "- **Momentum**: Accelerates in directions of persistent gradient\n",
    "- **Weight Decay**: Keeps weights small through direct regularization\n",
    "\n",
    "\n",
    "**⚠️Common Pitfalls**\n",
    "\n",
    "- Using too high learning rate initially\n",
    "- Not using enough weight decay for large models\n",
    "\n"
   ]
  },
  {
   "cell_type": "code",
   "execution_count": 60,
   "metadata": {},
   "outputs": [
    {
     "name": "stdout",
     "output_type": "stream",
     "text": [
      "Step 20000/200000, Loss: 2.473804473876953\n",
      "Step 40000/200000, Loss: 2.579519033432007\n",
      "Step 60000/200000, Loss: 2.5212044715881348\n",
      "Step 80000/200000, Loss: 2.4461610317230225\n",
      "Step 100000/200000, Loss: 2.3894824981689453\n",
      "Step 120000/200000, Loss: 2.4594857692718506\n",
      "Step 140000/200000, Loss: 2.583327054977417\n",
      "Step 160000/200000, Loss: 2.5809638500213623\n",
      "Step 180000/200000, Loss: 2.490457773208618\n",
      "Step 200000/200000, Loss: 2.542508125305176\n",
      "Final Loss: 2.542508125305176\n"
     ]
    }
   ],
   "source": [
    "batch_size = 32\n",
    "n_steps = 200000\n",
    "\n",
    "loss_history = []  # Lista para almacenar la pérdida\n",
    "\n",
    "for steps in range(n_steps):  # Aumenta el número de pasos para mejores resultados...\n",
    "\n",
    "    # Muestra un lote de datos\n",
    "    xb, yb = get_batch('train')\n",
    "\n",
    "    # Evalúa la pérdida\n",
    "    logits, loss = m(xb, yb)\n",
    "    optimizer.zero_grad(set_to_none=True)\n",
    "    loss.backward()\n",
    "    optimizer.step()\n",
    "    if (steps + 1) % 20000 == 0:\n",
    "        print(f\"Step {steps + 1}/{n_steps}, Loss: {loss.item()}\")\n",
    "    # Almacena la pérdida en la lista\n",
    "    loss_history.append(loss.item())\n",
    "\n",
    "print(\"Final Loss:\", loss.item())"
   ]
  },
  {
   "cell_type": "code",
   "execution_count": 61,
   "metadata": {},
   "outputs": [
    {
     "data": {
      "image/png": "[encoded data removed]",
      "text/plain": [
       "<Figure size 640x480 with 1 Axes>"
      ]
     },
     "metadata": {},
     "output_type": "display_data"
    }
   ],
   "source": [
    "import matplotlib.pyplot as plt\n",
    "\n",
    "plt.plot(loss_history)\n",
    "plt.xlabel('Steps')\n",
    "plt.ylabel('Loss')\n",
    "plt.title('Training Loss Over Time')\n",
    "plt.show()"
   ]
  },
  {
   "cell_type": "code",
   "execution_count": 64,
   "metadata": {},
   "outputs": [
    {
     "data": {
      "image/png": "[encoded data removed]",
      "text/plain": [
       "<Figure size 640x480 with 1 Axes>"
      ]
     },
     "metadata": {},
     "output_type": "display_data"
    }
   ],
   "source": [
    "import numpy as np\n",
    "\n",
    "log_interval = 1000  # Interval for averaging\n",
    "n_steps = len(loss_history)  # Total steps from the recorded data\n",
    "\n",
    "# Compute the moving average every 1000 steps\n",
    "loss_avg_history = [\n",
    "    np.mean(loss_history[i : i + log_interval]) \n",
    "    for i in range(0, n_steps, log_interval)\n",
    "]\n",
    "\n",
    "# Plot the averaged loss\n",
    "plt.plot(range(log_interval, n_steps + 1, log_interval), loss_avg_history)\n",
    "plt.xlabel('Steps')\n",
    "plt.ylabel('Average Loss (per 1000 steps)')\n",
    "plt.title('Training Loss Over Time')\n",
    "plt.show()"
   ]
  },
  {
   "cell_type": "code",
   "execution_count": 67,
   "metadata": {},
   "outputs": [
    {
     "name": "stdout",
     "output_type": "stream",
     "text": [
      "\n",
      "Swely, \n",
      "\n",
      "\n",
      "Tr bon aed Dican, Liow, saurecoffondinchon reritisn he io urens SE' s. Ch s \n",
      "\n",
      "\n",
      "\n",
      "Maechals brst I', merge't Mis huneen'. ay, asyowitrrck(Gale! HOmaerechusiato gsthit We): Y Iddanthn ban(Eretof\n"
     ]
    }
   ],
   "source": [
    "#Slighty better\n",
    "first_char= torch.zeros((1, 1), dtype=torch.long)\n",
    "print(decode(m.generate(first_char, max_new_tokens=200)[0].tolist()))"
   ]
  },
  {
   "cell_type": "markdown",
   "metadata": {},
   "source": [
    "____\n",
    "\n",
    "The code generated until now has been moved to the folder bigram\n",
    "\n",
    "___"
   ]
  },
  {
   "cell_type": "markdown",
   "metadata": {},
   "source": [
    "Math trick in self-attention"
   ]
  },
  {
   "cell_type": "code",
   "execution_count": 33,
   "metadata": {},
   "outputs": [
    {
     "data": {
      "text/plain": [
       "torch.Size([4, 8, 2])"
      ]
     },
     "execution_count": 33,
     "metadata": {},
     "output_type": "execute_result"
    }
   ],
   "source": [
    "import torch\n",
    "from torch.nn import functional as F\n",
    "# consider the following toy example:\n",
    "\n",
    "torch.manual_seed(1337)\n",
    "B,T,C = 4,8,2 # batch, time-context window, channels-vocab size\n",
    "x = torch.randn(B,T,C)\n",
    "x.shape\n",
    "\n",
    "#info only flows from past ot the present. never from future to the present"
   ]
  },
  {
   "cell_type": "code",
   "execution_count": 29,
   "metadata": {},
   "outputs": [],
   "source": [
    "# We want x[b,t] = mean_{i<=t} x[b,i]\n",
    "# this is a very silly way of attention. Each character has info from the previous ones\n",
    "\n",
    "#Unefficient way. python for loops: 🤢\n",
    "xbow = torch.zeros((B,T,C)) #bag of words\n",
    "for b in range(B):\n",
    "    for t in range(T):\n",
    "        xprev = x[b,:t+1] # (t,C) # on this batch, every char form 0 to t\n",
    "        xbow[b,t] = torch.mean(xprev, 0)\n"
   ]
  },
  {
   "cell_type": "code",
   "execution_count": 30,
   "metadata": {},
   "outputs": [
    {
     "name": "stdout",
     "output_type": "stream",
     "text": [
      "Step 1 - Lower triangular matrix:\n",
      "tensor([[1., 0., 0.],\n",
      "        [1., 1., 0.],\n",
      "        [1., 1., 1.]])\n",
      "--\n",
      "Step 2 - Row-normalized matrix (weights):\n",
      "tensor([[1.0000, 0.0000, 0.0000],\n",
      "        [0.5000, 0.5000, 0.0000],\n",
      "        [0.3333, 0.3333, 0.3333]])\n",
      "--\n",
      "Step 3 - Values to aggregate:\n",
      "tensor([[2., 7.],\n",
      "        [6., 4.],\n",
      "        [6., 5.]])\n",
      "--\n",
      "Step 4 - Result of weighted aggregation:\n",
      "tensor([[2.0000, 7.0000],\n",
      "        [4.0000, 5.5000],\n",
      "        [4.6667, 5.3333]])\n",
      "--\n",
      "Understanding the calculation:\n",
      "Row 1 of c: tensor([2., 7.]) (only using the first value)\n",
      "Row 2 of c: tensor([2., 7.]) * 0.5 + tensor([6., 4.]) * 0.5 = tensor([4.0000, 5.5000])\n",
      "Row 3 of c: tensor([2., 7.]) * 0.33 + tensor([6., 4.]) * 0.33 + tensor([6., 5.]) * 0.33 = tensor([4.6200, 5.2800])\n",
      "--\n"
     ]
    }
   ],
   "source": [
    "# now the matrix trick 🪄\n",
    "\n",
    "## VERSION 1\n",
    "\n",
    "torch.manual_seed(42)  # Set random seed for reproducibility\n",
    "\n",
    "# Step 1: Create a lower triangular matrix (with values 1.0 below and on diagonal, 0.0 above)\n",
    "a = torch.tril(torch.ones(3, 3))\n",
    "print('Step 1 - Lower triangular matrix:')\n",
    "print(a)\n",
    "print('--')\n",
    "\n",
    "# Step 2: Normalize each row to sum to 1 (convert to row-wise probability distributions)\n",
    "a = a / torch.sum(a, 1, keepdim=True)\n",
    "print('Step 2 - Row-normalized matrix (weights):')\n",
    "print(a)\n",
    "print('--')\n",
    "# This creates:\n",
    "# [[1.0000, 0.0000, 0.0000],  # First row: 100% weight on first element\n",
    "#  [0.5000, 0.5000, 0.0000],  # Second row: 50% weight on first, 50% on second\n",
    "#  [0.3333, 0.3333, 0.3333]]  # Third row: Equal weights (33.3%) on all elements\n",
    "\n",
    "# Step 3: Create a random matrix with values to aggregate\n",
    "b = torch.randint(0, 10, (3, 2)).float()\n",
    "print('Step 3 - Values to aggregate:')\n",
    "print(b)\n",
    "print('--')\n",
    "# This creates a 3x2 matrix with random values between 0-9\n",
    "\n",
    "# Step 4: Perform matrix multiplication (a @ b)\n",
    "c = a @ b\n",
    "print('Step 4 - Result of weighted aggregation:')\n",
    "print(c)\n",
    "print('--')\n",
    "\n",
    "# Let's break down what this matrix multiplication is actually doing:\n",
    "print('Understanding the calculation:')\n",
    "print(f\"Row 1 of c: {b[0]} (only using the first value)\")\n",
    "print(f\"Row 2 of c: {b[0]} * 0.5 + {b[1]} * 0.5 = {b[0] * 0.5 + b[1] * 0.5}\")\n",
    "print(f\"Row 3 of c: {b[0]} * 0.33 + {b[1]} * 0.33 + {b[2]} * 0.33 = {b[0] * 0.33 + b[1] * 0.33 + b[2] * 0.33}\")\n",
    "print('--')"
   ]
  },
  {
   "cell_type": "code",
   "execution_count": 31,
   "metadata": {},
   "outputs": [
    {
     "data": {
      "text/plain": [
       "True"
      ]
     },
     "execution_count": 31,
     "metadata": {},
     "output_type": "execute_result"
    }
   ],
   "source": [
    "# VERSION 2\n",
    "# using matrix multiply for a weighted aggregation\n",
    "wei = torch.tril(torch.ones(T, T))\n",
    "wei = wei / wei.sum(1, keepdim=True)\n",
    "xbow2 = wei @ x # (B, T) @ (B, T, C) ----> (B, T, T) @ (B, T, C) ---->(B, T, C)\n",
    "\n",
    "torch.allclose(xbow, xbow2,1e-5,1e-3)#looks if equal"
   ]
  },
  {
   "cell_type": "code",
   "execution_count": 26,
   "metadata": {},
   "outputs": [
    {
     "data": {
      "text/plain": [
       "(tensor(-2.9802e-08), tensor(3.2363e-08))"
      ]
     },
     "execution_count": 26,
     "metadata": {},
     "output_type": "execute_result"
    }
   ],
   "source": [
    "torch.min(xbow-xbow2), torch.max(xbow-xbow2) "
   ]
  },
  {
   "cell_type": "code",
   "execution_count": 37,
   "metadata": {},
   "outputs": [
    {
     "name": "stdout",
     "output_type": "stream",
     "text": [
      "tensor([[0., -inf, -inf, -inf, -inf, -inf, -inf, -inf],\n",
      "        [0., 0., -inf, -inf, -inf, -inf, -inf, -inf],\n",
      "        [0., 0., 0., -inf, -inf, -inf, -inf, -inf],\n",
      "        [0., 0., 0., 0., -inf, -inf, -inf, -inf],\n",
      "        [0., 0., 0., 0., 0., -inf, -inf, -inf],\n",
      "        [0., 0., 0., 0., 0., 0., -inf, -inf],\n",
      "        [0., 0., 0., 0., 0., 0., 0., -inf],\n",
      "        [0., 0., 0., 0., 0., 0., 0., 0.]])\n",
      "tensor([[1.0000, 0.0000, 0.0000, 0.0000, 0.0000, 0.0000, 0.0000, 0.0000],\n",
      "        [0.5000, 0.5000, 0.0000, 0.0000, 0.0000, 0.0000, 0.0000, 0.0000],\n",
      "        [0.3333, 0.3333, 0.3333, 0.0000, 0.0000, 0.0000, 0.0000, 0.0000],\n",
      "        [0.2500, 0.2500, 0.2500, 0.2500, 0.0000, 0.0000, 0.0000, 0.0000],\n",
      "        [0.2000, 0.2000, 0.2000, 0.2000, 0.2000, 0.0000, 0.0000, 0.0000],\n",
      "        [0.1667, 0.1667, 0.1667, 0.1667, 0.1667, 0.1667, 0.0000, 0.0000],\n",
      "        [0.1429, 0.1429, 0.1429, 0.1429, 0.1429, 0.1429, 0.1429, 0.0000],\n",
      "        [0.1250, 0.1250, 0.1250, 0.1250, 0.1250, 0.1250, 0.1250, 0.1250]])\n"
     ]
    },
    {
     "data": {
      "text/plain": [
       "True"
      ]
     },
     "execution_count": 37,
     "metadata": {},
     "output_type": "execute_result"
    }
   ],
   "source": [
    "# version 3: use Softmax\n",
    "tril = torch.tril(torch.ones(T, T))\n",
    "wei = torch.zeros((T,T))\n",
    "wei = wei.masked_fill(tril == 0, float('-inf')) #replace positions where tril==0 with negative infinity\n",
    "print(wei)\n",
    "wei = F.softmax(wei, dim=-1)# Now each row sums to 1.0 and represents a probability distribution\n",
    "# Due to the -inf values, softmax will assign zero probability to future positions\n",
    "# This implements the \"causal\" attention pattern where each token only looks at previous tokens\n",
    "print(wei)\n",
    "\n",
    "xbow3 = wei @ x\n",
    "torch.allclose(xbow, xbow3,1e-5,1e-3)\n",
    "\n",
    "\n",
    "'''\n",
    "Zero probability to all future positions (they had -inf values)\n",
    "Non-zero probabilities only to current and past positions\n",
    "Each row sums to 1.0 (proper probability distribution)\n",
    "'''\n"
   ]
  }
 ],
 "metadata": {
  "kernelspec": {
   "display_name": "venv",
   "language": "python",
   "name": "python3"
  },
  "language_info": {
   "codemirror_mode": {
    "name": "ipython",
    "version": 3
   },
   "file_extension": ".py",
   "mimetype": "text/x-python",
   "name": "python",
   "nbconvert_exporter": "python",
   "pygments_lexer": "ipython3",
   "version": "3.12.3"
  }
 },
 "nbformat": 4,
 "nbformat_minor": 2
}

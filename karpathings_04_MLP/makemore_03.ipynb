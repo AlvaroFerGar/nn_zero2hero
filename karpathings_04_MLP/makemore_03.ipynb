{
 "cells": [
  {
   "cell_type": "markdown",
   "metadata": {},
   "source": [
    "# makemore: part 3\n",
    "\n",
    "In this part Andrej revisit the MLP implementation making some imprvements and adjustements.\n",
    "\n",
    "To keep track of al of them i will add comments with a custom emoji.\n",
    "\n",
    "\n"
   ]
  },
  {
   "cell_type": "markdown",
   "metadata": {},
   "source": [
    "## 1.- 🍼 Initial Loss\n",
    "\n",
    "Initializing with random values leads to initial high loss values. The network is highly confident wrong\n",
    "\n",
    "```python\n",
    "  logits = h @ W2 + b2 # output layer\n",
    "  loss = F.cross_entropy(logits, Yb) # loss function\n",
    "```\n",
    "\n",
    "With a better initial loss we dont spend initial steps squashing the values\n"
   ]
  },
  {
   "cell_type": "markdown",
   "metadata": {},
   "source": [
    "## 2.- 📈 Saturated tanh\n",
    "\n",
    "Lots of values of our hiddent layer are -1 or 1, due to the h_preactivation has a very big range of values.\n",
    "\n",
    "Lets see whats happening when backpropagating:\n",
    "\n",
    "```python\n",
    "def tanh.backward():\n",
    "    self.grad += (1-t**2) * out.grad\n",
    "```\n",
    "if t=+-1 we are a getting a **0** and *stopping* the backpropagation.\n",
    "\n",
    "if t=0, the tanh is *inactive*. the grad passes by"
   ]
  },
  {
   "cell_type": "markdown",
   "metadata": {},
   "source": [
    "This problem can happen in multiple activation functions, who also have this 'tails'\n",
    "\n",
    "![](activation_function_tails.png)"
   ]
  },
  {
   "cell_type": "markdown",
   "metadata": {},
   "source": [
    "# 3.- 🪄 Avoid magic numbers or Kaiming init\n",
    "\n",
    "So, to avoid the initialization and the tanh issue we have endede with something like this\n",
    "\n",
    "```python\n",
    "    W1 = torch.randn((n_embd * block_size, n_hidden), generator=g) * 0.1  # 📈 desaturating tanh\n",
    "    b1 = torch.randn(n_hidden,                        generator=g) * 0.01 # 📈 desaturating tanh\n",
    "    W2 = torch.randn((n_hidden, vocab_size),          generator=g) * 0.01 # 🍼. Weights should not be 0.\n",
    "    b2 = torch.randn(vocab_size,                      generator=g) * 0    # 🍼. Not adding bias at initialization\n",
    "```\n",
    "\n",
    "How do we get this numbers?\n",
    "\n",
    "https://arxiv.org/pdf/1502.01852\n",
    "\n",
    "https://pytorch.org/docs/stable/nn.init.html --> tanh 5/3\n",
    "\n",
    "Nowadays its no so important to initialize the terms exactly right."
   ]
  },
  {
   "cell_type": "markdown",
   "metadata": {},
   "source": [
    "# 4.- 🔔 Batch normalization layer\n",
    "\n",
    "https://arxiv.org/pdf/1502.03167\n",
    "\n",
    "BatchNorm stabilizes training by normalizing activations to have zero mean and unit variance. This prevents them from becoming too large and saturating activation functions like tanh.\n",
    "\n",
    "Usually placed after layers with multiplications (linear or convolutional)\n",
    "\n",
    "However, we don’t always want activations to be strictly Gaussian, so we introduce trainable parameters:\n",
    "\n",
    "    bn_gain (γ) – Scales activations after normalization.\n",
    "    bn_bias (β) – Shifts activations after normalization.\n",
    "\n",
    "![](batch_norm.png)\n",
    "\n",
    "### Regularizing effect\n",
    "Since BatchNorm adjusts each sample based on the mean and std of its batch-partners, this adds slight noise to the activations.\n",
    "\n",
    "This effect acts as a form of data augmentation, helping the model generalize better.\n",
    "\n",
    "### Buffer of mean and std\n",
    "Used for running inferences with a good estimation of mean and std of whole dataset\n",
    "\n",
    "\n",
    "\n",
    "Nowadays is much more common group normalization or layer normalization\n",
    "* Layer Normalization (LN) normalizes each sample by looking at all its features, so it works well even with small batches.\n",
    "\n",
    "* Group Normalization (GN) splits the features into small groups and normalizes each one separately, making it a good middle ground between BatchNorm and LayerNorm.\n"
   ]
  },
  {
   "cell_type": "markdown",
   "metadata": {},
   "source": []
  },
  {
   "cell_type": "code",
   "execution_count": 29,
   "metadata": {},
   "outputs": [],
   "source": [
    "import torch\n",
    "import torch.nn.functional as F\n",
    "import matplotlib.pyplot as plt\n",
    "%matplotlib inline"
   ]
  },
  {
   "cell_type": "code",
   "execution_count": 30,
   "metadata": {},
   "outputs": [
    {
     "name": "stdout",
     "output_type": "stream",
     "text": [
      "8134 words\n",
      "['Alegría-Dulantzi']\n",
      "['alegria-dulantzi']\n"
     ]
    }
   ],
   "source": [
    "#Data load. No changes here\n",
    "\n",
    "#https://datos.gob.es/es/catalogo/a09002970-municipios-de-espana\n",
    "# We will instead be using names of villages/cities in Spain. Only 8k data\n",
    "import pandas as pd\n",
    "\n",
    "# Read the CSV data\n",
    "df = pd.read_csv(\"Municipis_d_Espanya.csv\", sep=\",\")\n",
    "\n",
    "# Function to clean the names\n",
    "def clean_name(name):\n",
    "    # If there's a slash, take the first part\n",
    "    name = name.split('/')[0]\n",
    "    # If it's in \"Last, First\" format, swap it to \"First Last\"\n",
    "    if ',' in name:\n",
    "        parts = name.split(', ')\n",
    "        if len(parts) == 2:\n",
    "            name = f\"{parts[1]} {parts[0]}\"\n",
    "    return name\n",
    "\n",
    "# Apply the function to clean names\n",
    "df[\"Nom\"] = df[\"Nom\"].apply(clean_name)\n",
    "\n",
    "# Extract only the 'Territorio' column as a list\n",
    "words = df[\"Nom\"].tolist()\n",
    "\n",
    "print(f\"{len(words)} words\")\n",
    "\n",
    "#Simplifying the problem (lowercase and no accents)\n",
    "import unidecode\n",
    "import re\n",
    "\n",
    "print(words[:1])\n",
    "words = [re.sub(r'[\\(\\)\\'\"]', '', unidecode.unidecode(word).lower()) for word in words]\n",
    "print(words[:1])"
   ]
  },
  {
   "cell_type": "code",
   "execution_count": 31,
   "metadata": {},
   "outputs": [
    {
     "name": "stdout",
     "output_type": "stream",
     "text": [
      "{1: ' ', 2: '-', 3: 'a', 4: 'b', 5: 'c', 6: 'd', 7: 'e', 8: 'f', 9: 'g', 10: 'h', 11: 'i', 12: 'j', 13: 'k', 14: 'l', 15: 'm', 16: 'n', 17: 'o', 18: 'p', 19: 'q', 20: 'r', 21: 's', 22: 't', 23: 'u', 24: 'v', 25: 'w', 26: 'x', 27: 'y', 28: 'z', 0: '.'}\n",
      "29\n"
     ]
    }
   ],
   "source": [
    "# build the vocabulary of characters and mappings to/from integers\n",
    "chars = sorted(list(set(''.join(words))))\n",
    "stoi = {s:i+1 for i,s in enumerate(chars)}\n",
    "stoi['.'] = 0\n",
    "itos = {i:s for s,i in stoi.items()}\n",
    "vocab_size = len(itos)\n",
    "print(itos)\n",
    "print(vocab_size)"
   ]
  },
  {
   "cell_type": "code",
   "execution_count": 32,
   "metadata": {},
   "outputs": [
    {
     "name": "stdout",
     "output_type": "stream",
     "text": [
      "torch.Size([85032, 3]) torch.Size([85032])\n",
      "torch.Size([10606, 3]) torch.Size([10606])\n",
      "torch.Size([10768, 3]) torch.Size([10768])\n"
     ]
    }
   ],
   "source": [
    "# build the dataset\n",
    "block_size = 3 # context length: how many characters do we take to predict the next one?\n",
    "\n",
    "def build_dataset(words):  \n",
    "  X, Y = [], []\n",
    "  \n",
    "  for w in words:\n",
    "    context = [0] * block_size\n",
    "    for ch in w + '.':\n",
    "      ix = stoi[ch]\n",
    "      X.append(context)\n",
    "      Y.append(ix)\n",
    "      context = context[1:] + [ix] # crop and append\n",
    "\n",
    "  X = torch.tensor(X)\n",
    "  Y = torch.tensor(Y)\n",
    "  print(X.shape, Y.shape)\n",
    "  return X, Y\n",
    "\n",
    "import random\n",
    "random.seed(42)\n",
    "random.shuffle(words)\n",
    "n1 = int(0.8*len(words))\n",
    "n2 = int(0.9*len(words))\n",
    "\n",
    "Xtr,  Ytr  = build_dataset(words[:n1])     # 80%\n",
    "Xdev, Ydev = build_dataset(words[n1:n2])   # 10%\n",
    "Xte,  Yte  = build_dataset(words[n2:])     # 10%\n"
   ]
  },
  {
   "cell_type": "code",
   "execution_count": 33,
   "metadata": {},
   "outputs": [
    {
     "name": "stdout",
     "output_type": "stream",
     "text": [
      "18619\n"
     ]
    }
   ],
   "source": [
    "# MLP revisited\n",
    "n_embd = 10 # the dimensionality of the character embedding vectors\n",
    "n_hidden = 300 # the number of neurons in the hidden layer of the MLP\n",
    "\n",
    "g = torch.Generator().manual_seed(2147483647) # for reproducibility\n",
    "C  = torch.randn((vocab_size, n_embd),            generator=g)\n",
    "#W1 = torch.randn((n_embd * block_size, n_hidden), generator=g) * 0.1  # 📈 desaturating tanh\n",
    "\n",
    "#We want the std of our data to be gain/sqrt(fan_in) # 📈 desaturating tanh\n",
    "#https://pytorch.org/docs/stable/nn.init.html#torch.nn.init.kaiming_normal_\n",
    "gain_for_tanh=5/3\n",
    "fan_in=(n_embd * block_size)#By scaling by 1/sqrt(fan_in=n_inputs), you keep the variance of activations approximately constant, preventing saturation.\n",
    "W1 = torch.randn((n_embd * block_size, n_hidden), generator=g) * gain_for_tanh/(fan_in**0.5) #* 0.2 # 📈 desaturating tanh\n",
    "b1 = torch.randn(n_hidden,                        generator=g) * 0.01 # 📈 desaturating tanh\n",
    "W2 = torch.randn((n_hidden, vocab_size),          generator=g) * 0.01 # 🍼. Weights should not be 0.\n",
    "b2 = torch.randn(vocab_size,                      generator=g) * 0    # 🍼. Not adding bias at initialization\n",
    "\n",
    "#🔔 BatchNorm parameters\n",
    "bngain = torch.ones((1, n_hidden))#🔔 1s but then backprop will modify our originally gaussian distrib \n",
    "bnbias = torch.zeros((1, n_hidden))#🔔 0s but then backprop will modify our originally gaussian distrib \n",
    "\n",
    "bnmean_running = torch.zeros((1, n_hidden))#🔔0s\n",
    "bnstd_running = torch.ones((1, n_hidden))#🔔1s\n",
    "#bn**_running approximates the true dataset mean, not just the batch mean.\n",
    "\n",
    "\n",
    "parameters = [C, W1, W2, b2, bngain, bnbias]#🔔 bngain and bnbias also train\n",
    "print(sum(p.nelement() for p in parameters)) # number of parameters in total\n",
    "for p in parameters:\n",
    "  p.requires_grad = True"
   ]
  },
  {
   "cell_type": "code",
   "execution_count": 34,
   "metadata": {},
   "outputs": [
    {
     "name": "stdout",
     "output_type": "stream",
     "text": [
      "      0/ 200000: 3.4207\n",
      "  10000/ 200000: 1.9382\n",
      "  20000/ 200000: 1.7544\n",
      "  30000/ 200000: 1.8942\n",
      "  40000/ 200000: 1.6910\n",
      "  50000/ 200000: 1.7375\n",
      "  60000/ 200000: 1.6388\n",
      "  70000/ 200000: 1.7190\n",
      "  80000/ 200000: 1.6808\n",
      "  90000/ 200000: 1.7390\n",
      " 100000/ 200000: 2.0621\n",
      " 110000/ 200000: 1.7566\n",
      " 120000/ 200000: 1.7099\n",
      " 130000/ 200000: 1.4750\n",
      " 140000/ 200000: 1.9096\n",
      " 150000/ 200000: 1.7290\n",
      " 160000/ 200000: 1.5729\n",
      " 170000/ 200000: 1.2636\n",
      " 180000/ 200000: 1.5172\n",
      " 190000/ 200000: 1.6155\n"
     ]
    }
   ],
   "source": [
    "# same optimization as last time\n",
    "max_steps = 200000\n",
    "batch_size = 64\n",
    "lossi = []\n",
    "\n",
    "for i in range(max_steps):\n",
    "  \n",
    "  # minibatch construct\n",
    "  ix = torch.randint(0, Xtr.shape[0], (batch_size,), generator=g)\n",
    "  Xb, Yb = Xtr[ix], Ytr[ix] # batch X,Y\n",
    "  \n",
    "  # --forward pass--\n",
    "  emb = C[Xb] # embed the characters into vectors\n",
    "  embcat = emb.view(emb.shape[0], -1) # concatenate the vectors\n",
    "  # Linear layer\n",
    "  #hpreact = embcat @ W1 + b1 # hidden layer pre-activation\n",
    "  hpreact = embcat @ W1 #+ b1 #🔔 Due to the Bnormalization. b1 is now useles\n",
    "  #hpreact = (hpreact-mean)/std #🔔\n",
    "  bn_mean_i=hpreact.mean(0, keepdim=True)#🔔\n",
    "  bn_std_i=hpreact.std(0, keepdim=True)#🔔\n",
    "  hpreact=(hpreact-bn_mean_i)/(bn_std_i+10e-6)#🔔 little eps preventing /0\n",
    "  hpreact = bngain*hpreact +bnbias#🔔\n",
    "       \n",
    "  with torch.no_grad(): #Only used for tracking bnmean and bnstd. Not used for training\n",
    "    momentum=0.001 #you can have higher values with bigger batchsizes\n",
    "    bnmean_running =  (1-momentum) * bnmean_running + momentum * bn_mean_i\n",
    "    bnstd_running =   (1-momentum) * bnstd_running  + momentum * bn_std_i\n",
    "\n",
    "\n",
    "  h = torch.tanh(hpreact) # hidden layer\n",
    "  logits = h @ W2 + b2 # output layer\n",
    "  loss = F.cross_entropy(logits, Yb) # loss function\n",
    "  \n",
    "  #--backward pass--\n",
    "  for p in parameters:\n",
    "    p.grad = None\n",
    "  loss.backward()\n",
    "  \n",
    "  # update\n",
    "  lr = 0.1 if i < 100000 else 0.01 # step learning rate decay\n",
    "  for p in parameters:\n",
    "    p.data += -lr * p.grad\n",
    "\n",
    "  # track stats\n",
    "  if i % 10000 == 0: # print every once in a while\n",
    "    print(f'{i:7d}/{max_steps:7d}: {loss.item():.4f}')\n",
    "  lossi.append(loss.log10().item())\n",
    "  "
   ]
  },
  {
   "cell_type": "code",
   "execution_count": 35,
   "metadata": {},
   "outputs": [
    {
     "data": {
      "text/plain": [
       "<matplotlib.image.AxesImage at 0x7b045939a3c0>"
      ]
     },
     "execution_count": 35,
     "metadata": {},
     "output_type": "execute_result"
    },
    {
     "data": {
      "image/png": "[encoded data removed]",
      "text/plain": [
       "<Figure size 2000x1000 with 1 Axes>"
      ]
     },
     "metadata": {},
     "output_type": "display_data"
    }
   ],
   "source": [
    "#📈 saturated tanh\n",
    "\n",
    "plt.figure(figsize=(20,10))\n",
    "\n",
    "plt.imshow(h.abs() > 0.99, cmap='gray')"
   ]
  },
  {
   "cell_type": "code",
   "execution_count": 36,
   "metadata": {},
   "outputs": [
    {
     "name": "stdout",
     "output_type": "stream",
     "text": [
      "No column is entirely 'one'.\n"
     ]
    }
   ],
   "source": [
    "#📈 saturated tanh\n",
    "\n",
    "zero_grad_columns = (h.abs()>0.99).all(dim=0)\n",
    "\n",
    "# If any column is full of ones\n",
    "if zero_grad_columns.any():\n",
    "    print(\"There is at least one column full of 'ones'.\")\n",
    "else:\n",
    "    print(\"No column is entirely 'one'.\")\n",
    "\n",
    "\n",
    "#A column full of ones is equal to a dead neuron. The gradients get destroyed \n"
   ]
  },
  {
   "cell_type": "code",
   "execution_count": 37,
   "metadata": {},
   "outputs": [
    {
     "data": {
      "text/plain": [
       "[<matplotlib.lines.Line2D at 0x7b0457d34530>]"
      ]
     },
     "execution_count": 37,
     "metadata": {},
     "output_type": "execute_result"
    },
    {
     "data": {
      "image/png": "[encoded data removed]",
      "text/plain": [
       "<Figure size 640x480 with 1 Axes>"
      ]
     },
     "metadata": {},
     "output_type": "display_data"
    }
   ],
   "source": [
    "plt.plot(lossi)"
   ]
  },
  {
   "cell_type": "code",
   "execution_count": 38,
   "metadata": {},
   "outputs": [],
   "source": [
    "# calibrate the batch norm at the end of training\n",
    "\n",
    "with torch.no_grad():\n",
    "  # pass the training set through\n",
    "  emb = C[Xtr]\n",
    "  embcat = emb.view(emb.shape[0], -1)\n",
    "  hpreact = embcat @ W1 # + b1\n",
    "  # measure the mean/std over the entire training set\n",
    "  bnmean = hpreact.mean(0, keepdim=True)\n",
    "  bnstd = hpreact.std(0, keepdim=True)\n"
   ]
  },
  {
   "cell_type": "code",
   "execution_count": 39,
   "metadata": {},
   "outputs": [
    {
     "name": "stdout",
     "output_type": "stream",
     "text": [
      "train 1.618809461593628\n",
      "val 1.7743667364120483\n"
     ]
    }
   ],
   "source": [
    "@torch.no_grad() # this decorator disables gradient tracking\n",
    "def split_loss(split):\n",
    "  x,y = {\n",
    "    'train': (Xtr, Ytr),\n",
    "    'val': (Xdev, Ydev),\n",
    "    'test': (Xte, Yte),\n",
    "  }[split]\n",
    "  emb = C[x] # (N, block_size, n_embd)\n",
    "  embcat = emb.view(emb.shape[0], -1) # concat into (N, block_size * n_embd)\n",
    "  hpreact = embcat @ W1 # + b1\n",
    "  #hpreact = bngain * (hpreact - hpreact.mean(0, keepdim=True)) / hpreact.std(0, keepdim=True) + bnbias #🔔\n",
    "  hpreact = bngain * (hpreact - bnmean_running) / bnstd_running + bnbias#🔔\n",
    "  h = torch.tanh(hpreact) # (N, n_hidden)\n",
    "  logits = h @ W2 + b2 # (N, vocab_size)\n",
    "  loss = F.cross_entropy(logits, y)\n",
    "  print(split, loss.item())\n",
    "\n",
    "split_loss('train')\n",
    "split_loss('val')"
   ]
  },
  {
   "cell_type": "markdown",
   "metadata": {},
   "source": [
    "We achieved a loss of **1.77**, which is smaller than the one in the previous notebook (**1.87**). Although the difference is small, these changes are mainly oriented towards deeper networks."
   ]
  },
  {
   "cell_type": "markdown",
   "metadata": {},
   "source": [
    "___"
   ]
  },
  {
   "cell_type": "code",
   "execution_count": 53,
   "metadata": {},
   "outputs": [
    {
     "name": "stdout",
     "output_type": "stream",
     "text": [
      "truabuenoia de osadienca.\n",
      "lodos.\n",
      "purona eneros.\n",
      "trozlo de arroza de cas.\n",
      "laua.\n",
      "riubera.\n",
      "copa de arlossorihuerras.\n",
      "pateras.\n",
      "hontelo.\n",
      "ampila.\n",
      "ceenar.\n",
      "huela.\n",
      "uruenoia.\n",
      "ulete.\n",
      "ternalena.\n",
      "gamarsuorberadanez eierra.\n",
      "noelarror.\n",
      "pilaijo.\n",
      "gua.\n",
      "sant.\n",
      "riu de aratsevilonar.\n",
      "ara de arraladarra.\n",
      "sante de arregon de mar.\n",
      "rio.\n",
      "guaro de arraba.\n",
      "valarrorones.\n",
      " alcantalalacuide-artolosalacarasui.\n",
      "salambro.\n",
      "anxualt egenazerrosa de arro.\n",
      "trua.\n",
      "ceralamejueruelada.\n",
      "erro.\n",
      "ripalmamblona.\n",
      "laguiarcui.\n",
      "beraldea.\n",
      "palamejuano de linue.\n",
      "muro de bieteigo.\n",
      "nua.\n",
      "obue.\n",
      "tuea.\n",
      "ulealrazron.\n",
      "orsa.\n",
      "bresa.\n",
      "ohranjano.\n",
      "bauerona.\n",
      "fuena.\n",
      "jmielo.\n",
      "buesa.\n",
      "herroya de obea.\n",
      "tuer.\n",
      "huero.\n",
      "tetama.\n",
      "segas.\n",
      "meritlones.\n",
      "riosepadajuejoseguereelorruesa.\n",
      ".\n",
      "pqeria.\n",
      "ceranosiluena.\n",
      "lalo de arlana.\n",
      "atera de cas.\n",
      "bena.\n",
      "hmeros.\n",
      "muria.\n",
      "car.\n",
      "munola.\n",
      "estafe.\n",
      "gua en i ambruo.\n",
      "alesada.\n",
      "xoyuesadroneja de arra-soo.\n",
      "massarmuexo.\n",
      "puio de olino.\n",
      "calejo.\n",
      "nava.\n",
      "rua.\n",
      "glo de onraqela.\n",
      "gua zresuue.\n",
      "valdea.\n",
      "jarara.\n",
      "jheeixle.\n",
      "seradilalia.\n",
      "sau.\n",
      "maz.\n",
      "g.\n",
      "benillua.\n",
      "nou.\n",
      "muru.\n",
      "fuena.\n",
      "muriegarra.\n",
      "muruenovinojaras.\n",
      "terui delavirovas dera.\n",
      "rua.\n",
      "serolerado.\n",
      "noia.\n",
      "t.\n",
      "nova.\n",
      "ganos i ela.\n",
      "puu.\n",
      "sorua.\n",
      "san ilo.\n",
      "naueraleu.\n"
     ]
    }
   ],
   "source": [
    "g = torch.Generator().manual_seed(2147483647)\n",
    "\n",
    "for _ in range(100):\n",
    "    \n",
    "    out = []\n",
    "    context = [0] * block_size # initialize with all ...\n",
    "    while True:\n",
    "      emb = C[torch.tensor([context])] # (1,block_size,d)\n",
    "      embcat = emb.view(emb.shape[0], -1) # concat into (N, block_size * n_embd)\n",
    "      hpreact = embcat @ W1\n",
    "      hpreact = bngain * (hpreact - bnmean_running) / bnstd_running + bnbias#🔔\n",
    "      h = torch.tanh(hpreact) # (N, n_hidden)\n",
    "      logits = h @ W2 + b2 # (N, vocab_size)\n",
    "      probs = F.softmax(logits, dim=1)\n",
    "      ix = torch.multinomial(probs, num_samples=1, generator=g).item()\n",
    "      context = context[1:] + [ix]\n",
    "      out.append(ix)\n",
    "      if ix == 0:\n",
    "        break\n",
    "    \n",
    "    print(''.join(itos[i] for i in out))\n"
   ]
  },
  {
   "cell_type": "markdown",
   "metadata": {},
   "source": []
  }
 ],
 "metadata": {
  "kernelspec": {
   "display_name": "venv",
   "language": "python",
   "name": "python3"
  },
  "language_info": {
   "codemirror_mode": {
    "name": "ipython",
    "version": 3
   },
   "file_extension": ".py",
   "mimetype": "text/x-python",
   "name": "python",
   "nbconvert_exporter": "python",
   "pygments_lexer": "ipython3",
   "version": "3.12.3"
  }
 },
 "nbformat": 4,
 "nbformat_minor": 4
}

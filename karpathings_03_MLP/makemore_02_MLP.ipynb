{
 "cells": [
  {
   "cell_type": "markdown",
   "metadata": {},
   "source": [
    "We are going to base our work in [**A Neural Probabilistic Language Model**](https://www.jmlr.org/papers/volume3/bengio03a/bengio03a.pdf) by Bengio, Ducharme, Vicent and Jauvin.\n",
    "\n",
    "Their propose can be summarized as:\n",
    "\n",
    "```\n",
    "1. associate with each word in the vocabulary a distributed word feature vector (a realvalued vector in Rm)\n",
    "2. express the joint probability function of word sequences in terms of the feature vectors of these words in the sequence\n",
    "3. learn simultaneously the word feature vectors and the parameters of that probability function.\n",
    "```\n",
    "\n",
    "\n",
    "Note that they will use a vocabulary of 17k words. For simplicity we will stick to our characters dataset.\n",
    "Words wewe enconded in a 30 dimensional vector"
   ]
  },
  {
   "cell_type": "markdown",
   "metadata": {},
   "source": [
    "![](proposed_model.png)"
   ]
  },
  {
   "cell_type": "code",
   "execution_count": null,
   "metadata": {},
   "outputs": [],
   "source": [
    "import torch\n",
    "import torch.nn.functional as F\n",
    "import matplotlib.pyplot as plt # for making figures\n",
    "%matplotlib inline"
   ]
  },
  {
   "cell_type": "code",
   "execution_count": null,
   "metadata": {},
   "outputs": [
    {
     "name": "stdout",
     "output_type": "stream",
     "text": [
      "8134 words\n"
     ]
    }
   ],
   "source": [
    "#https://datos.gob.es/es/catalogo/a09002970-municipios-de-espana\n",
    "# We will instead be using names of villages/cities in Spain. Only 8k data\n",
    "import pandas as pd\n",
    "\n",
    "# Read the CSV data\n",
    "df = pd.read_csv(\"Municipis_d_Espanya.csv\", sep=\",\")\n",
    "\n",
    "# Function to clean the names\n",
    "def clean_name(name):\n",
    "    # If there's a slash, take the first part\n",
    "    name = name.split('/')[0]\n",
    "    # If it's in \"Last, First\" format, swap it to \"First Last\"\n",
    "    if ',' in name:\n",
    "        parts = name.split(', ')\n",
    "        if len(parts) == 2:\n",
    "            name = f\"{parts[1]} {parts[0]}\"\n",
    "    return name\n",
    "\n",
    "# Apply the function to clean names\n",
    "df[\"Nom\"] = df[\"Nom\"].apply(clean_name)\n",
    "\n",
    "# Extract only the 'Territorio' column as a list\n",
    "words = df[\"Nom\"].tolist()\n",
    "\n",
    "print(f\"{len(words)} words\")"
   ]
  },
  {
   "cell_type": "code",
   "execution_count": null,
   "metadata": {},
   "outputs": [
    {
     "name": "stdout",
     "output_type": "stream",
     "text": [
      "['Alegría-Dulantzi']\n",
      "['alegria-dulantzi']\n"
     ]
    }
   ],
   "source": [
    "#Simplifying the problem (lowercase and no accents)\n",
    "import unidecode\n",
    "import re\n",
    "\n",
    "print(words[:1])\n",
    "words = [re.sub(r'[\\(\\)\\'\"]', '', unidecode.unidecode(word).lower()) for word in words]\n",
    "print(words[:1])"
   ]
  },
  {
   "cell_type": "code",
   "execution_count": null,
   "metadata": {},
   "outputs": [
    {
     "name": "stdout",
     "output_type": "stream",
     "text": [
      "{1: ' ', 2: '-', 3: 'a', 4: 'b', 5: 'c', 6: 'd', 7: 'e', 8: 'f', 9: 'g', 10: 'h', 11: 'i', 12: 'j', 13: 'k', 14: 'l', 15: 'm', 16: 'n', 17: 'o', 18: 'p', 19: 'q', 20: 'r', 21: 's', 22: 't', 23: 'u', 24: 'v', 25: 'w', 26: 'x', 27: 'y', 28: 'z', 0: '.'}\n"
     ]
    }
   ],
   "source": [
    "# build the vocabulary of characters and mappings to/from integers\n",
    "chars = sorted(list(set(''.join(words))))\n",
    "stoi = {s:i+1 for i,s in enumerate(chars)}\n",
    "stoi['.'] = 0\n",
    "itos = {i:s for s,i in stoi.items()}\n",
    "print(itos)"
   ]
  },
  {
   "cell_type": "code",
   "execution_count": null,
   "metadata": {},
   "outputs": [],
   "source": [
    "n_chars=len(itos)"
   ]
  },
  {
   "cell_type": "code",
   "execution_count": null,
   "metadata": {},
   "outputs": [
    {
     "name": "stdout",
     "output_type": "stream",
     "text": [
      "... ---> a\n",
      "..a ---> l\n",
      ".al ---> e\n",
      "ale ---> g\n",
      "leg ---> r\n",
      "egr ---> i\n",
      "gri ---> a\n",
      "ria ---> -\n",
      "ia- ---> d\n",
      "a-d ---> u\n",
      "-du ---> l\n",
      "dul ---> a\n",
      "ula ---> n\n",
      "lan ---> t\n",
      "ant ---> z\n",
      "ntz ---> i\n",
      "tzi ---> .\n",
      "... ---> a\n",
      "..a ---> m\n",
      ".am ---> u\n",
      "amu ---> r\n",
      "mur ---> r\n",
      "urr ---> i\n",
      "rri ---> o\n",
      "rio ---> .\n",
      "... ---> a\n",
      "..a ---> r\n",
      ".ar ---> a\n",
      "ara ---> m\n",
      "ram ---> a\n",
      "ama ---> i\n",
      "mai ---> o\n",
      "aio ---> .\n"
     ]
    }
   ],
   "source": [
    "# build the dataset\n",
    "\n",
    "block_size = 3 # context length: how many characters do we take to predict the next one?\n",
    "\n",
    "X = [] #inputs\n",
    "Y = [] #labels\n",
    "\n",
    "for w in words[:3]:\n",
    "  \n",
    "  #print(w)\n",
    "  context = [0] * block_size #starting with '...'\n",
    "  for ch in (w + '.'):\n",
    "    ix = stoi[ch]\n",
    "    X.append(context)\n",
    "    Y.append(ix)\n",
    "    print(''.join(itos[i] for i in context), '--->', itos[ix])\n",
    "    context = context[1:] + [ix] # crop and append\n",
    "  \n",
    "X = torch.tensor(X)\n",
    "Y = torch.tensor(Y)"
   ]
  },
  {
   "cell_type": "code",
   "execution_count": 85,
   "metadata": {},
   "outputs": [
    {
     "data": {
      "text/plain": [
       "(torch.Size([33, 3]), torch.int64, torch.Size([33]), torch.int64)"
      ]
     },
     "execution_count": 85,
     "metadata": {},
     "output_type": "execute_result"
    }
   ],
   "source": [
    "X.shape, X.dtype, Y.shape, Y.dtype"
   ]
  },
  {
   "cell_type": "code",
   "execution_count": 86,
   "metadata": {},
   "outputs": [],
   "source": [
    "#We well use a 2D embedding for our characters\n",
    "n_dimensions=2\n",
    "C= torch.randn((n_chars,n_dimensions))\n",
    "\n",
    "#thanks to pytorch we can do\n",
    "C[X].shape\n",
    "\n",
    "#so\n",
    "emb=C[X]"
   ]
  },
  {
   "cell_type": "code",
   "execution_count": 87,
   "metadata": {},
   "outputs": [],
   "source": [
    "n_inputs= block_size*n_dimensions\n",
    "n_neurons=100 #hyperparameter. is our choice\n",
    "\n",
    "W1 = torch.randn(n_inputs,n_neurons)\n",
    "biases= torch.randn(n_neurons)"
   ]
  },
  {
   "cell_type": "code",
   "execution_count": 88,
   "metadata": {},
   "outputs": [
    {
     "data": {
      "text/plain": [
       "torch.Size([33, 3, 2])"
      ]
     },
     "execution_count": 88,
     "metadata": {},
     "output_type": "execute_result"
    }
   ],
   "source": [
    "emb.shape"
   ]
  },
  {
   "cell_type": "code",
   "execution_count": 89,
   "metadata": {},
   "outputs": [],
   "source": [
    "#emb.view(106406,n_inputs)\n",
    "#emb.view(-1, n_inputs). this works! pytorch use the correct number instead\n",
    "\n",
    "# very efficient way of reshaping.\n",
    "# no new tensor created, just modifying its properties\n",
    "# More info about pytorch internals: http://blog.ezyang.com/2019/05/pytorch-internals/"
   ]
  },
  {
   "cell_type": "code",
   "execution_count": 90,
   "metadata": {},
   "outputs": [
    {
     "data": {
      "text/plain": [
       "torch.Size([33, 100])"
      ]
     },
     "execution_count": 90,
     "metadata": {},
     "output_type": "execute_result"
    }
   ],
   "source": [
    "## hidden layer\n",
    "\n",
    "h = emb.view(emb.shape[0],n_inputs) @ W1 + biases #hidden states\n",
    "h = torch.tanh(h)\n",
    "h.shape"
   ]
  },
  {
   "cell_type": "code",
   "execution_count": 91,
   "metadata": {},
   "outputs": [],
   "source": [
    "#final layer\n",
    "\n",
    "W2=torch.randn((n_neurons,n_chars))\n",
    "b2=torch.randn(n_chars)\n",
    "\n",
    "logits= h @ W2 +b2"
   ]
  },
  {
   "cell_type": "code",
   "execution_count": 92,
   "metadata": {},
   "outputs": [
    {
     "data": {
      "text/plain": [
       "torch.Size([33, 29])"
      ]
     },
     "execution_count": 92,
     "metadata": {},
     "output_type": "execute_result"
    }
   ],
   "source": [
    "counts = logits.exp()\n",
    "prob= counts / counts.sum(1, keepdims=True)\n",
    "prob.shape"
   ]
  },
  {
   "cell_type": "code",
   "execution_count": 93,
   "metadata": {},
   "outputs": [
    {
     "data": {
      "text/plain": [
       "tensor(16.3982)"
      ]
     },
     "execution_count": 93,
     "metadata": {},
     "output_type": "execute_result"
    }
   ],
   "source": [
    "# we could test our (untrained) nn with\n",
    "\n",
    "loss=-prob[torch.arange(prob.shape[0]),Y].log().mean() #negative log likehood\n",
    "\n",
    "loss"
   ]
  },
  {
   "cell_type": "markdown",
   "metadata": {},
   "source": [
    "We can simply inmplement the cross entropy\n",
    "\n",
    "```python\n",
    "counts = logits.exp()\n",
    "prob= counts / counts.sum(1, keepdims=True)\n",
    "loss=-prob[torch.arange(prob.shape[0]),Y].log().mean() #negative log likehood\n",
    "```\n",
    "\n",
    "like this\n",
    "\n",
    "```python\n",
    "F.cross_entropy(logits, Y)\n",
    "```\n",
    "\n",
    "* more efficient forward pass\n",
    "* more efficient backward pass\n",
    "* numerically better behaved"
   ]
  },
  {
   "cell_type": "markdown",
   "metadata": {},
   "source": [
    "______________"
   ]
  },
  {
   "cell_type": "markdown",
   "metadata": {},
   "source": [
    "Let's go with the actual training\n",
    "\n",
    "for clarity we only show the final complete version"
   ]
  },
  {
   "cell_type": "code",
   "execution_count": 155,
   "metadata": {},
   "outputs": [
    {
     "name": "stdout",
     "output_type": "stream",
     "text": [
      "torch.Size([85438, 3]) torch.Size([85438])\n",
      "torch.Size([10598, 3]) torch.Size([10598])\n",
      "torch.Size([10370, 3]) torch.Size([10370])\n"
     ]
    }
   ],
   "source": [
    "# build the dataset\n",
    "block_size = 3 # context length: how many characters do we take to predict the next one?\n",
    "\n",
    "def build_dataset(words):  \n",
    "  X, Y = [], []\n",
    "  for w in words:\n",
    "\n",
    "    #print(w)\n",
    "    context = [0] * block_size\n",
    "    for ch in w + '.':\n",
    "      ix = stoi[ch]\n",
    "      X.append(context)\n",
    "      Y.append(ix)\n",
    "      #print(''.join(itos[i] for i in context), '--->', itos[ix])\n",
    "      context = context[1:] + [ix] # crop and append\n",
    "\n",
    "  X = torch.tensor(X)\n",
    "  Y = torch.tensor(Y)\n",
    "  print(X.shape, Y.shape)\n",
    "  return X, Y\n",
    "\n",
    "import random\n",
    "random.seed(42)\n",
    "random.shuffle(words)\n",
    "n1 = int(0.8*len(words))\n",
    "n2 = int(0.9*len(words))\n",
    "\n",
    "Xtr, Ytr = build_dataset(words[:n1])      #train dataset for actual training  ~0.8\n",
    "\n",
    "Xdev, Ydev = build_dataset(words[n1:n2])  #dev/val for development with the hyperparameters ~0.1\n",
    "                                          #in our example hyperparameters= size of embedding, size of hidden layer\n",
    "\n",
    "Xte, Yte = build_dataset(words[n2:])      #dev/val evaluate perfomance of the model at the end ~0.1"
   ]
  },
  {
   "cell_type": "code",
   "execution_count": 181,
   "metadata": {},
   "outputs": [],
   "source": [
    "#n_dimensions=2\n",
    "n_dimensions=10 #4rd iteration\n",
    "n_inputs= block_size*n_dimensions\n",
    "#n_neurons=100 #hyperparameter. is our choice\n",
    "n_neurons=300 # Second iteration\n",
    "\n",
    "\n",
    "g = torch.Generator().manual_seed(2147483647) # for reproducibility\n",
    "\n",
    "C = torch.randn((n_chars, n_dimensions), generator=g)\n",
    "\n",
    "W1 = torch.randn(n_inputs,n_neurons)\n",
    "b1= torch.randn(n_neurons)\n",
    "\n",
    "\n",
    "W2=torch.randn((n_neurons,n_chars), generator=g)\n",
    "b2=torch.randn(n_chars, generator=g)\n",
    "\n",
    "parameters = [C, W1, b1, W2, b2]\n",
    "for p in parameters:\n",
    "  p.requires_grad = True #activating gradient"
   ]
  },
  {
   "cell_type": "code",
   "execution_count": 182,
   "metadata": {},
   "outputs": [
    {
     "data": {
      "text/plain": [
       "18319"
      ]
     },
     "execution_count": 182,
     "metadata": {},
     "output_type": "execute_result"
    }
   ],
   "source": [
    "sum(p.nelement() for p in parameters)"
   ]
  },
  {
   "cell_type": "code",
   "execution_count": 183,
   "metadata": {},
   "outputs": [],
   "source": [
    "#How to determine our learning rate?\n",
    "\n",
    "#candidate learning rate\n",
    "lre = torch.linspace(-3, 0, 1000) #learning rate exponent. we made 1000 elements between -0.001(very low lr) and 1 (very high lr)\n",
    "lrs = 10**lre\n",
    "\n",
    "lr_tracking = []\n",
    "loss_tracking = []\n",
    "stepi = []"
   ]
  },
  {
   "attachments": {
    "image-2.png": {
     "image/png": "[encoded data removed]"
    },
    "image.png": {
     "image/png": "[encoded data removed]"
    }
   },
   "cell_type": "markdown",
   "metadata": {},
   "source": [
    "We made some training steps increasing the lr and we see that our lr shoul be in the pink zone\n",
    "\n",
    "(lr x axis - loss y axis)\n",
    "![image.png](attachment:image.png)\n",
    "\n",
    "(lre x axis - loss y axis)\n",
    "![image-2.png](attachment:image-2.png)\n",
    "\n",
    "```python\n",
    "plt.plot(lr_tracking, loss_tracking)\n",
    "```\n",
    "\n",
    "so after all 0.1 was a nice lr initialize"
   ]
  },
  {
   "cell_type": "code",
   "execution_count": 184,
   "metadata": {},
   "outputs": [
    {
     "name": "stdout",
     "output_type": "stream",
     "text": [
      "step 0: 30.45340919494629\n",
      "step 50000: 1.7737616300582886\n",
      "step 100000: 1.808089017868042\n",
      "step 150000: 1.795298457145691\n",
      "step 200000: 1.6809515953063965\n",
      "step 250000: 1.6624419689178467\n"
     ]
    }
   ],
   "source": [
    "#Training\n",
    "\n",
    "batch_size=64\n",
    "\n",
    "for i in range(300000):\n",
    "  \n",
    "  # minibatch construct, to avoid calculating over all the dataset\n",
    "  ix = torch.randint(0, Xtr.shape[0], (batch_size,))\n",
    "  \n",
    "  # forward pass\n",
    "  emb = C[Xtr[ix]]\n",
    "  h = torch.tanh(emb.view(-1, n_inputs) @ W1 + b1)\n",
    "  logits = h @ W2 + b2\n",
    "  loss = F.cross_entropy(logits, Ytr[ix])\n",
    "  #print(loss.item())\n",
    "  if i%50000==0:\n",
    "    print(f\"step {i}: {loss.item()}\")\n",
    "  \n",
    "  # backward pass\n",
    "  for p in parameters:\n",
    "    p.grad = None\n",
    "  loss.backward()\n",
    "  \n",
    "  # update\n",
    "  #lr = lrs[i] #to check the sweet spot of our lr\n",
    "  lr = 0.1 if i < 200000 else 0.01 #learning rate decay. minimizing our lr in the final steps\n",
    "  for p in parameters:\n",
    "    p.data += -lr * p.grad\n",
    "\n",
    "  # track stats\n",
    "  #lr_tracking.append(lre[i]) #to check the sweet spot of our lr\n",
    "  #loss_tracking.append(loss.item())\n",
    "  stepi.append(i)\n",
    "  loss_tracking.append(loss.log10().item())\n",
    "\n",
    "#print(loss.item())\n"
   ]
  },
  {
   "cell_type": "code",
   "execution_count": 185,
   "metadata": {},
   "outputs": [
    {
     "data": {
      "text/plain": [
       "[<matplotlib.lines.Line2D at 0x7f2d6dd2a450>]"
      ]
     },
     "execution_count": 185,
     "metadata": {},
     "output_type": "execute_result"
    },
    {
     "data": {
      "image/png": "[encoded data removed]",
      "text/plain": [
       "<Figure size 640x480 with 1 Axes>"
      ]
     },
     "metadata": {},
     "output_type": "display_data"
    }
   ],
   "source": [
    "plt.plot(stepi, loss_tracking)\n",
    "\n",
    "#the noise is due to the minibatches. probably bigger batch size would be recommended"
   ]
  },
  {
   "cell_type": "markdown",
   "metadata": {},
   "source": [
    "Testing the results"
   ]
  },
  {
   "cell_type": "code",
   "execution_count": null,
   "metadata": {},
   "outputs": [
    {
     "data": {
      "text/plain": [
       "tensor(1.6086, grad_fn=<NllLossBackward0>)"
      ]
     },
     "execution_count": 186,
     "metadata": {},
     "output_type": "execute_result"
    }
   ],
   "source": [
    "emb = C[Xtr]\n",
    "h = torch.tanh(emb.view(-1, n_inputs) @ W1 + b1)\n",
    "logits = h @ W2 + b2\n",
    "loss = F.cross_entropy(logits, Ytr)\n",
    "loss\n",
    "\n",
    "#1st iteration: tensor(1.8746, grad_fn=<NllLossBackward0>) with n_neurons=100, n_dimensions=2\n",
    "#2nd iteration: tensor(1.7772, grad_fn=<NllLossBackward0>) with n_neurons=300, n_dimensions=2\n",
    "#3rd iteration: tensor(1.7877, grad_fn=<NllLossBackward0>) with n_neurons=300, n_dimensions=2 batchsize=64\n",
    "#4rd iteration: tensor(1.6086, grad_fn=<NllLossBackward0>) with n_neurons=300, n_dimensions=10 batchsize=64\n",
    "\n",
    "#note: a slight overfit is recommended"
   ]
  },
  {
   "cell_type": "code",
   "execution_count": null,
   "metadata": {},
   "outputs": [
    {
     "data": {
      "text/plain": [
       "tensor(1.8707, grad_fn=<NllLossBackward0>)"
      ]
     },
     "execution_count": 187,
     "metadata": {},
     "output_type": "execute_result"
    }
   ],
   "source": [
    "emb = C[Xdev]\n",
    "h = torch.tanh(emb.view(-1, n_inputs) @ W1 + b1)\n",
    "logits = h @ W2 + b2\n",
    "loss = F.cross_entropy(logits, Ydev)\n",
    "loss\n",
    "\n",
    "#1st iteration: tensor(1.9484, grad_fn=<NllLossBackward0>) with n_neurons=100, n_dimensions=2\n",
    "#2nd iteration: tensor(1.9003, grad_fn=<NllLossBackward0>) with n_neurons=300, n_dimensions=2. higher difference with training\n",
    "#3rd iteration: tensor(1.9021, grad_fn=<NllLossBackward0>) with n_neurons=300, n_dimensions=2 batchsize=. basically no difference\n",
    "#4rd iteration: tensor(1.8707, grad_fn=<NllLossBackward0>) with n_neurons=300, n_dimensions=10 batchsize=64\n",
    "\n"
   ]
  },
  {
   "cell_type": "markdown",
   "metadata": {},
   "source": [
    "Our train loss is smaller than our dev loss"
   ]
  },
  {
   "cell_type": "code",
   "execution_count": null,
   "metadata": {},
   "outputs": [
    {
     "data": {
      "text/plain": [
       "tensor(1.8676, grad_fn=<NllLossBackward0>)"
      ]
     },
     "execution_count": 188,
     "metadata": {},
     "output_type": "execute_result"
    }
   ],
   "source": [
    "# we obtained 2.29 with the bigram model\n",
    "# we clearly improve our results!!! 1.8676\n",
    "emb = C[Xte]\n",
    "h = torch.tanh(emb.view(-1, n_inputs) @ W1 + b1)\n",
    "logits = h @ W2 + b2\n",
    "loss = F.cross_entropy(logits, Yte)\n",
    "loss"
   ]
  },
  {
   "cell_type": "code",
   "execution_count": null,
   "metadata": {},
   "outputs": [
    {
     "data": {
      "image/png": "[encoded data removed]",
      "text/plain": [
       "<Figure size 800x800 with 1 Axes>"
      ]
     },
     "metadata": {},
     "output_type": "display_data"
    }
   ],
   "source": [
    "#Here it is a time capsule of out embedded characters before we upscale to the 10th dimension\n",
    "\n",
    "# visualize dimensions 0 and 1 of the embedding matrix C for all characters\n",
    "plt.figure(figsize=(8,8))\n",
    "plt.scatter(C[:,0].data, C[:,1].data, s=200)\n",
    "for i in range(C.shape[0]):\n",
    "    plt.text(C[i,0].item(), C[i,1].item(), itos[i], ha=\"center\", va=\"center\", color='white')\n",
    "plt.grid('minor')\n",
    "\n",
    "#e is really curious. proably due to a lots of \"de\"\n",
    "#rest of vocals are near\n",
    "#\" \" and \"-\" are \n",
    "#z, w and x are close as strange characters"
   ]
  },
  {
   "cell_type": "markdown",
   "metadata": {},
   "source": [
    "# Finally the best part...sampling the results :)"
   ]
  },
  {
   "cell_type": "code",
   "execution_count": 190,
   "metadata": {},
   "outputs": [
    {
     "name": "stdout",
     "output_type": "stream",
     "text": [
      "colinede los catabado de castar.\n",
      "herres.\n",
      "montibarcos.\n",
      "cantanillacava de calenas.\n",
      "moropedro de taente.\n",
      "hoya.\n",
      "harinconono.\n",
      "rus.\n",
      "das.\n",
      "aletbra.\n",
      "hoyadocin.\n",
      "pechotorres de lla de los de hertos.\n",
      "carroy.\n",
      "latrimes.\n",
      "nepena.\n",
      "olina.\n",
      "canenaga.\n",
      "san caudillo.\n",
      "mota del zaut.\n",
      "abuente.\n",
      "marta de lasementes.\n",
      "gredovia.\n",
      "dudas.\n",
      "zal.\n",
      "pica de val de saya.\n",
      "arcia del mars.\n",
      "arguerton.\n",
      "tepal.\n",
      "ahueca del mea.\n",
      "sant gany.\n",
      "esma.\n",
      "camartena.\n",
      "aranca.\n",
      "el estroma.\n",
      "bergailzada.\n",
      "cala del castella.\n",
      "ayegurribado.\n",
      "ackuia de llangonz guada.\n",
      "mez.\n",
      "las ban nieva maszal.\n",
      "la coles del cardena.\n",
      "samella masarra.\n",
      "aguerolanes.\n",
      "ron.\n",
      "cin.\n",
      "luga de llon.\n",
      "rei.\n",
      "san juigperes.\n",
      "zorada de san.\n",
      "alcazarzobispontriko-urceocina de terroses.\n",
      "melillares.\n",
      "almar.\n",
      "hueta.\n",
      "bujal.\n",
      "herra.\n",
      "santa mayueque.\n",
      "vilves.\n",
      "hitorrada de tras.\n",
      "almosiles.\n",
      "la pozo de pria de alt.\n",
      "arcona.\n",
      "cusan juan de alfaurierra.\n",
      "bija.\n",
      "alparejordome de la celi.\n",
      "vede fuente.\n",
      "zumiedro.\n",
      "esguera de tozbarcenc del pueblegordos.\n",
      "burgel pedras.\n",
      "urria.\n",
      "mieunx.\n",
      "sola zudar.\n",
      "seres.\n",
      "cas.\n",
      "bustillar del montivigorell de cara de san campos.\n",
      "monte.\n",
      "horcullo de gre.\n",
      "carzuelo.\n",
      "ferosa de sega.\n",
      "venteros de arralmolomgadefuente.\n",
      "banes.\n",
      "bena.\n",
      "los otenas plarri.\n",
      "iava de duerosar.\n",
      "vellanos.\n",
      "aldalacentea.\n",
      "nuevaceda.\n",
      "gilbonza-ponte de la carra.\n",
      "el ollos de cuel.\n",
      "iturindaiguertell.\n",
      "vila vegade.\n",
      "aria de pinoja.\n",
      "villos campos.\n",
      "el vado de valobres.\n",
      "blina.\n",
      "fres gadeobista.\n",
      "berosero de campo.\n",
      "benc de ses.\n",
      "cerraced.\n",
      "agumiellboll.\n",
      "caseca.\n"
     ]
    }
   ],
   "source": [
    "g = torch.Generator().manual_seed(2147483647 + 10)\n",
    "\n",
    "for _ in range(100):\n",
    "    \n",
    "    out = []\n",
    "    context = [0] * block_size # initialize with all ...\n",
    "    while True:\n",
    "      emb = C[torch.tensor([context])] # (1,block_size,d)\n",
    "      h = torch.tanh(emb.view(1, -1) @ W1 + b1)\n",
    "      logits = h @ W2 + b2\n",
    "      probs = F.softmax(logits, dim=1)\n",
    "      ix = torch.multinomial(probs, num_samples=1, generator=g).item()\n",
    "      context = context[1:] + [ix]\n",
    "      out.append(ix)\n",
    "      if ix == 0:\n",
    "        break\n",
    "    \n",
    "    print(''.join(itos[i] for i in out))"
   ]
  }
 ],
 "metadata": {
  "kernelspec": {
   "display_name": "venv",
   "language": "python",
   "name": "python3"
  },
  "language_info": {
   "codemirror_mode": {
    "name": "ipython",
    "version": 3
   },
   "file_extension": ".py",
   "mimetype": "text/x-python",
   "name": "python",
   "nbconvert_exporter": "python",
   "pygments_lexer": "ipython3",
   "version": "3.12.3"
  }
 },
 "nbformat": 4,
 "nbformat_minor": 2
}
